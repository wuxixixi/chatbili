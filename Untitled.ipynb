{
 "cells": [
  {
   "cell_type": "code",
   "execution_count": 1,
   "id": "cf4f96bf-69de-414c-b0e4-9ecfd9c0083b",
   "metadata": {},
   "outputs": [
    {
     "name": "stderr",
     "output_type": "stream",
     "text": [
      "[WARNING][2024-12-09 15:30:39.451] redis_rate_limiter.py:21 [t:7860]: No redis installed, RedisRateLimiter unavailable. Ignore this warning if you don't need to use qianfan SDK in distribution environment\n"
     ]
    }
   ],
   "source": [
    "import os\n",
    "import json\n",
    "from database import get_db_connection\n",
    "from langchain.docstore.document import Document\n",
    "from langchain_community.llms import QianfanLLMEndpoint\n",
    "\n",
    "# 加载环境变量\n",
    "from dotenv import load_dotenv\n",
    "load_dotenv()\n",
    "\n",
    "# 从环境变量获取千帆平台的凭证\n",
    "QIANFAN_AK = os.getenv(\"QIANFAN_AK\")\n",
    "QIANFAN_SK = os.getenv(\"QIANFAN_SK\")\n",
    "model_name = \"ERNIE-Bot-turbo\"  # 替换为实际使用的模型名称\n",
    "# 初始化 Qianfan LLM 并传递凭证\n",
    "llm_qianfan = QianfanLLMEndpoint(\n",
    "    model=model_name,\n",
    "    streaming=True,\n",
    "    qianfan_ak=QIANFAN_AK,\n",
    "    qianfan_sk=QIANFAN_SK,\n",
    ")\n"
   ]
  },
  {
   "cell_type": "code",
   "execution_count": 3,
   "id": "58521fd6-fb7b-4c69-a527-df4ee69498b6",
   "metadata": {},
   "outputs": [
    {
     "name": "stderr",
     "output_type": "stream",
     "text": [
      "C:\\ProgramData\\anaconda3\\envs\\ChatBili\\lib\\site-packages\\langchain_community\\document_loaders\\bilibili.py:121: UserWarning: No subtitles found for video: https://www.bilibili.com/video/BV1h5UFY5EP8/?spm_id_from=333.1007.tianma.1-2-2.click&vd_source=99a402cd367f5b84f410f15e62518f99. Returning empty transcript.\n",
      "  warnings.warn(\n"
     ]
    },
    {
     "data": {
      "text/plain": [
       "[Document(metadata={'bvid': 'BV1h5UFY5EP8', 'aid': 113488689239254, 'videos': 1, 'tid': 228, 'tname': '人文历史', 'copyright': 1, 'pic': 'http://i1.hdslb.com/bfs/archive/69bf0a55db473660d401c94447fc53ce4feb5499.jpg', 'title': '春秋笔法！统治者为什么喜欢《资治通鉴》？', 'pubdate': 1731718800, 'ctime': 1731700281, 'desc': '你可能不知道，《资治通鉴》作为《史记》之后最著名的史书，其实不算“正史”，不在“二十四史”之列。\\n\\n中国古代的“正史”，最重要的标准就两条：第一条，最好是官修史书，也就是在朝廷的组织下修订的。第二条，必须是纪传体史书。事实上，是否为“官修史书”，其实也没那么重要，比如陈寿的《三国志》，就是他个人在皇帝默许后写下的私修史书，但也位列“二十四史”，而且属于“良史”。\\n\\n《资治通鉴》和《三国志》一样，也是皇帝允许的私修史书，但私修并不是影响它进入“二十四史”的主要原因，这本书最大的问题在于，不是纪传体，而是编年体。\\n\\n本期视频，我来为你讲述《资治通鉴》的故事。', 'desc_v2': [{'raw_text': '你可能不知道，《资治通鉴》作为《史记》之后最著名的史书，其实不算“正史”，不在“二十四史”之列。\\n\\n中国古代的“正史”，最重要的标准就两条：第一条，最好是官修史书，也就是在朝廷的组织下修订的。第二条，必须是纪传体史书。事实上，是否为“官修史书”，其实也没那么重要，比如陈寿的《三国志》，就是他个人在皇帝默许后写下的私修史书，但也位列“二十四史”，而且属于“良史”。\\n\\n《资治通鉴》和《三国志》一样，也是皇帝允许的私修史书，但私修并不是影响它进入“二十四史”的主要原因，这本书最大的问题在于，不是纪传体，而是编年体。\\n\\n本期视频，我来为你讲述《资治通鉴》的故事。', 'type': 1, 'biz_id': 0}], 'state': 0, 'duration': 1436, 'mission_id': 4023068, 'rights': {'bp': 0, 'elec': 0, 'download': 1, 'movie': 0, 'pay': 0, 'hd5': 1, 'no_reprint': 1, 'autoplay': 1, 'ugc_pay': 0, 'is_cooperation': 0, 'ugc_pay_preview': 0, 'no_background': 0, 'clean_mode': 0, 'is_stein_gate': 0, 'is_360': 0, 'no_share': 0, 'arc_pay': 0, 'free_watch': 0}, 'owner': {'mid': 8096990, 'name': '啊粥粥啊粥', 'face': 'https://i2.hdslb.com/bfs/face/79c1cf49166f6354d8814e93a4c8e1b55cfc03f2.jpg'}, 'stat': {'aid': 113488689239254, 'view': 1696661, 'danmaku': 9530, 'reply': 3147, 'favorite': 42093, 'coin': 31909, 'share': 4327, 'now_rank': 0, 'his_rank': 0, 'like': 74472, 'dislike': 0, 'evaluation': '', 'vt': 0}, 'argue_info': {'argue_msg': '', 'argue_type': 0, 'argue_link': ''}, 'dynamic': '你可能不知道，《资治通鉴》作为《史记》之后最著名的史书，其实不算“正史”，不在“二十四史”之列。\\n\\n中国古代的“正史”，最重要的标准就两条：第一条，最好是官修史书，也就是在朝廷的组织下修订的。第二条，必须是纪传体史书。事实上，是否为“官修史书”，其实也没那么重要，比如陈寿的《三国志》，就是他个人在皇帝默许后写下的私修史书，但也位列“二十四史”，而且属于“良史”。《资治通鉴》最大的问题在于，不是纪传体，而是编年体。\\n\\n本期视频，我来为你讲述《资治通鉴》的故事。', 'cid': 26920290276, 'dimension': {'width': 1920, 'height': 1080, 'rotate': 0}, 'season_id': 4308377, 'premiere': None, 'teenage_mode': 0, 'is_chargeable_season': False, 'is_story': False, 'is_upower_exclusive': False, 'is_upower_play': False, 'is_upower_preview': False, 'enable_vt': 0, 'vt_display': '', 'no_cache': False, 'pages': [{'cid': 26920290276, 'page': 1, 'from': 'vupload', 'part': '春秋笔法！统治者为什么喜欢《资治通鉴》？', 'duration': 1436, 'vid': '', 'weblink': '', 'dimension': {'width': 1920, 'height': 1080, 'rotate': 0}, 'first_frame': 'http://i2.hdslb.com/bfs/storyff/n241123sad20qmsnrwbau10385uk85xd_firsti.jpg'}], 'subtitle': {'allow_submit': False, 'list': []}, 'ugc_season': {'id': 4308377, 'title': '通鉴', 'cover': 'https://archive.biliimg.com/bfs/archive/d9999175f4fdc5cb9cdc23c5f54c882e48f069ed.jpg', 'mid': 8096990, 'intro': '点击追更，周周更新！', 'sign_state': 0, 'attribute': 140, 'sections': [{'season_id': 4308377, 'id': 4794418, 'title': '正片', 'type': 1, 'episodes': [{'season_id': 4308377, 'section_id': 4794418, 'id': 96836227, 'aid': 113488689239254, 'cid': 26920290276, 'title': '【P1】春秋笔法！统治者为什么喜欢《资治通鉴》？', 'attribute': 0, 'arc': {'aid': 113488689239254, 'videos': 0, 'type_id': 0, 'type_name': '', 'copyright': 0, 'pic': 'http://i1.hdslb.com/bfs/archive/69bf0a55db473660d401c94447fc53ce4feb5499.jpg', 'title': '【P1】春秋笔法！统治者为什么喜欢《资治通鉴》？', 'pubdate': 1731718800, 'ctime': 1731718800, 'desc': '', 'state': 0, 'duration': 1436, 'rights': {'bp': 0, 'elec': 0, 'download': 0, 'movie': 0, 'pay': 0, 'hd5': 0, 'no_reprint': 0, 'autoplay': 0, 'ugc_pay': 0, 'is_cooperation': 0, 'ugc_pay_preview': 0, 'arc_pay': 0, 'free_watch': 0}, 'author': {'mid': 0, 'name': '', 'face': ''}, 'stat': {'aid': 113488689239254, 'view': 1696661, 'danmaku': 9530, 'reply': 3147, 'fav': 42093, 'coin': 31909, 'share': 4327, 'now_rank': 0, 'his_rank': 0, 'like': 74472, 'dislike': 0, 'evaluation': '', 'argue_msg': '', 'vt': 13498586, 'vv': 1696661}, 'dynamic': '', 'dimension': {'width': 0, 'height': 0, 'rotate': 0}, 'desc_v2': None, 'is_chargeable_season': False, 'is_blooper': False, 'enable_vt': 0, 'vt_display': ''}, 'page': {'cid': 26920290276, 'page': 1, 'from': 'vupload', 'part': '春秋笔法！统治者为什么喜欢《资治通鉴》？', 'duration': 1436, 'vid': '', 'weblink': '', 'dimension': {'width': 1920, 'height': 1080, 'rotate': 0}}, 'bvid': 'BV1h5UFY5EP8', 'pages': [{'cid': 26920290276, 'page': 1, 'from': 'vupload', 'part': '春秋笔法！统治者为什么喜欢《资治通鉴》？', 'duration': 1436, 'vid': '', 'weblink': '', 'dimension': {'width': 1920, 'height': 1080, 'rotate': 0}}]}, {'season_id': 4308377, 'section_id': 4794418, 'id': 96838057, 'aid': 113616917370339, 'cid': 27243644708, 'title': '【P2】小人当权？礼崩乐坏与三家分晋的悲壮史诗', 'attribute': 0, 'arc': {'aid': 113616917370339, 'videos': 0, 'type_id': 0, 'type_name': '', 'copyright': 0, 'pic': 'http://i2.hdslb.com/bfs/archive/ea9f9c1306ae2461fb5174fdf5c4d59426af0f0a.jpg', 'title': '【P2】小人当权？礼崩乐坏与三家分晋的悲壮史诗', 'pubdate': 1733657133, 'ctime': 1733657133, 'desc': '', 'state': 0, 'duration': 1677, 'rights': {'bp': 0, 'elec': 0, 'download': 0, 'movie': 0, 'pay': 0, 'hd5': 0, 'no_reprint': 0, 'autoplay': 0, 'ugc_pay': 0, 'is_cooperation': 0, 'ugc_pay_preview': 0, 'arc_pay': 0, 'free_watch': 0}, 'author': {'mid': 0, 'name': '', 'face': ''}, 'stat': {'aid': 113616917370339, 'view': 217160, 'danmaku': 1184, 'reply': 375, 'fav': 4026, 'coin': 5812, 'share': 235, 'now_rank': 0, 'his_rank': 0, 'like': 13494, 'dislike': 0, 'evaluation': '', 'argue_msg': '', 'vt': 2267428, 'vv': 217160}, 'dynamic': '', 'dimension': {'width': 0, 'height': 0, 'rotate': 0}, 'desc_v2': None, 'is_chargeable_season': False, 'is_blooper': False, 'enable_vt': 0, 'vt_display': ''}, 'page': {'cid': 27243644708, 'page': 1, 'from': 'vupload', 'part': '小人当权？礼崩乐坏，与三家分晋的悲壮史诗', 'duration': 1677, 'vid': '', 'weblink': '', 'dimension': {'width': 1920, 'height': 1080, 'rotate': 0}}, 'bvid': 'BV1HNqsYTEGq', 'pages': [{'cid': 27243644708, 'page': 1, 'from': 'vupload', 'part': '小人当权？礼崩乐坏，与三家分晋的悲壮史诗', 'duration': 1677, 'vid': '', 'weblink': '', 'dimension': {'width': 1920, 'height': 1080, 'rotate': 0}}]}]}], 'stat': {'season_id': 4308377, 'view': 1913821, 'danmaku': 10714, 'reply': 3522, 'fav': 46119, 'coin': 37721, 'share': 4562, 'now_rank': 0, 'his_rank': 0, 'like': 87962, 'vt': 0, 'vv': 0}, 'ep_count': 2, 'season_type': 1, 'is_pay_season': False, 'enable_vt': 0}, 'is_season_display': True, 'user_garb': {'url_image_ani_cut': ''}, 'honor_reply': {'honor': [{'aid': 113488689239254, 'type': 7, 'desc': '热门收录', 'weekly_recommend_num': 0}]}, 'like_icon': '', 'need_jump_bv': False, 'disable_show_up_info': False, 'is_story_play': 1, 'is_view_self': False, 'url': 'https://www.bilibili.com/video/BV1h5UFY5EP8/?spm_id_from=333.1007.tianma.1-2-2.click&vd_source=99a402cd367f5b84f410f15e62518f99'}, page_content='')]"
      ]
     },
     "execution_count": 3,
     "metadata": {},
     "output_type": "execute_result"
    }
   ],
   "source": [
    "from langchain_community.document_loaders import BiliBiliLoader\n",
    "\n",
    "SESSDATA = \"e1effec6%2C1749273656%2Cbc722%2Ac1CjBTIBkQ06WsOXowhCBbBPsYTxVE_bndZSbmIN3JNiV2c7XEQlR_WLs3NtFWvPmTXogSVmxPZTcxMjdsYTluRlowaUNoTlhJX0YwblBZRUZiZmdJcE9RQ2pTZzMyVDk3eXg3THZ4ZW81V3NjeUQtSXh5ckUzc01PdXI5MjVJMGExWmpXTk5RNnl3IIEC\"\n",
    "BUVID3 = \"DC30675C-A2B1-DE08-F7F9-E5304BB11BF789380infoc\"\n",
    "BILI_JCT = \"ba6927caed1e03b42b227d12b5ac9c2d\"\n",
    "\n",
    "example_doc = BiliBiliLoader([\"https://www.bilibili.com/video/BV1h5UFY5EP8/?spm_id_from=333.1007.tianma.1-2-2.click&vd_source=99a402cd367f5b84f410f15e62518f99\"], \n",
    "                             sessdata=SESSDATA, buvid3=BUVID3, bili_jct=BILI_JCT\n",
    "                            ).load()\n",
    "example_doc"
   ]
  },
  {
   "cell_type": "code",
   "execution_count": null,
   "id": "3c7a66a4-3e0c-4f49-9430-9ab4f8a09e04",
   "metadata": {},
   "outputs": [],
   "source": []
  },
  {
   "cell_type": "code",
   "execution_count": 8,
   "id": "598b599a-04f2-42fb-b6cf-8af894c01b74",
   "metadata": {},
   "outputs": [],
   "source": [
    "import os\n",
    "import json\n",
    "from langchain_community.document_loaders import BiliBiliLoader\n",
    "from database import get_db_connection, initialize_database\n",
    "from langchain.docstore.document import Document\n",
    "\n",
    "# 加载环境变量\n",
    "from dotenv import load_dotenv\n",
    "load_dotenv()\n",
    "\n",
    "# 从环境变量获取 BiliBiliLoader 所需的参数\n",
    "SESSDATA = os.getenv(\"SESSDATA\")\n",
    "BUVID3 = os.getenv(\"BUVID3\")\n",
    "BILI_JCT = os.getenv(\"BILI_JCT\")\n",
    "\n",
    "def gather_bilibili_data(urls):\n",
    "    \"\"\"\n",
    "    根据给定的 Bilibili 视频 URL 列表，获取视频信息并存储到数据库中\n",
    "    \"\"\"\n",
    "    loader = BiliBiliLoader(\n",
    "        video_urls=urls,\n",
    "        sessdata=SESSDATA,\n",
    "        buvid3=BUVID3,\n",
    "        bili_jct=BILI_JCT\n",
    "    )\n",
    "    documents = loader.load()\n",
    "    \n",
    "    for doc in documents:\n",
    "        insert_video_into_db(doc)\n",
    "    \n",
    "    return docu\n",
    "\n",
    "\n",
    "def insert_video_into_db(document: Document):\n",
    "    \"\"\"\n",
    "    将单个 Document 对象中的视频信息插入到数据库中\n",
    "    \"\"\"\n",
    "    try:\n",
    "        metadata = document.metadata\n",
    "        # 处理复杂字段（例如 dict 类型的字段，需要转换为 JSON 字符串）\n",
    "        desc_v2 = json.dumps(metadata.get('desc_v2', []))\n",
    "        rights = json.dumps(metadata.get('rights', {}))\n",
    "        stat = json.dumps(metadata.get('stat', {}))\n",
    "        dimension = metadata.get('dimension', {})\n",
    "        owner = metadata.get('owner', {})\n",
    "        argue_info = metadata.get('argue_info', {})\n",
    "        ugc_season = metadata.get('ugc_season', {})\n",
    "        honor_reply = metadata.get('honor_reply', {})\n",
    "        \n",
    "        with get_db_connection() as conn:\n",
    "            cursor = conn.cursor()\n",
    "            cursor.execute(\n",
    "                \"\"\"\n",
    "                INSERT OR IGNORE INTO videos (\n",
    "                    bvid, aid, title, description, desc_v2, tid, tname, copyright,\n",
    "                    pic, pubdate, ctime, duration, rights, owner_mid, owner_name,\n",
    "                    owner_face, stat, dynamic, dimension_width, dimension_height,\n",
    "                    dimension_rotate, season_id, premiere, teenage_mode,\n",
    "                    is_chargeable_season, is_story, is_upower_exclusive, is_upower_play,\n",
    "                    enable_vt, vt_display, no_cache, url\n",
    "                ) VALUES (?, ?, ?, ?, ?, ?, ?, ?, ?, ?, ?, ?, ?, ?, ?, ?, ?, ?, ?, ?, ?, ?, ?, ?, ?, ?, ?, ?, ?, ?, ?, ?)\n",
    "                \"\"\",\n",
    "                (\n",
    "                    metadata.get('bvid'),\n",
    "                    metadata.get('aid'),\n",
    "                    metadata.get('title'),\n",
    "                    metadata.get('desc'),\n",
    "                    desc_v2,\n",
    "                    metadata.get('tid'),\n",
    "                    metadata.get('tname'),\n",
    "                    metadata.get('copyright'),\n",
    "                    metadata.get('pic'),\n",
    "                    metadata.get('pubdate'),\n",
    "                    metadata.get('ctime'),\n",
    "                    metadata.get('duration'),\n",
    "                    rights,\n",
    "                    owner.get('mid'),\n",
    "                    owner.get('name'),\n",
    "                    owner.get('face'),\n",
    "                    stat,\n",
    "                    metadata.get('dynamic'),\n",
    "                    dimension.get('width'),\n",
    "                    dimension.get('height'),\n",
    "                    dimension.get('rotate'),\n",
    "                    metadata.get('season_id'),\n",
    "                    metadata.get('premiere'),\n",
    "                    metadata.get('teenage_mode'),\n",
    "                    metadata.get('is_chargeable_season'),\n",
    "                    metadata.get('is_story'),\n",
    "                    metadata.get('is_upower_exclusive'),\n",
    "                    metadata.get('is_upower_play'),\n",
    "                    metadata.get('enable_vt'),\n",
    "                    metadata.get('vt_display'),\n",
    "                    metadata.get('no_cache'),\n",
    "                    metadata.get('url')\n",
    "                )\n",
    "            )\n",
    "            conn.commit()\n",
    "            print(f\"视频 {metadata.get('bvid')} 已入库。\")\n",
    "    except Exception as e:\n",
    "        print(f\"插入视频 {document.metadata.get('bvid')} 时出错: {e}\")"
   ]
  },
  {
   "cell_type": "code",
   "execution_count": 11,
   "id": "2d27dc3e-3c6e-4636-9895-1b992379a85a",
   "metadata": {},
   "outputs": [
    {
     "name": "stdout",
     "output_type": "stream",
     "text": [
      "视频 BV1h5UFY5EP8 已入库。\n"
     ]
    }
   ],
   "source": [
    "document = gather_bilibili_data([\"https://www.bilibili.com/video/BV1h5UFY5EP8/?spm_id_from=333.1007.tianma.1-2-2.click&vd_source=99a402cd367f5b84f410f15e62518f99\"])"
   ]
  },
  {
   "cell_type": "code",
   "execution_count": 12,
   "id": "182762d4-c24b-48b3-b578-6a19cc673ccd",
   "metadata": {},
   "outputs": [],
   "source": [
    "document"
   ]
  },
  {
   "cell_type": "code",
   "execution_count": null,
   "id": "18ee8056-d182-45cf-bdcb-d9efe289f247",
   "metadata": {},
   "outputs": [],
   "source": []
  }
 ],
 "metadata": {
  "kernelspec": {
   "display_name": "Python (ChatBili)",
   "language": "python",
   "name": "chatbili"
  },
  "language_info": {
   "codemirror_mode": {
    "name": "ipython",
    "version": 3
   },
   "file_extension": ".py",
   "mimetype": "text/x-python",
   "name": "python",
   "nbconvert_exporter": "python",
   "pygments_lexer": "ipython3",
   "version": "3.10.0"
  }
 },
 "nbformat": 4,
 "nbformat_minor": 5
}
